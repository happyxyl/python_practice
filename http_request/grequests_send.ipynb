{
 "cells": [
  {
   "cell_type": "code",
   "execution_count": 18,
   "id": "71001554-3caa-4b4e-8d45-8d14eb84bf8f",
   "metadata": {},
   "outputs": [],
   "source": [
    "import grequests"
   ]
  },
  {
   "cell_type": "code",
   "execution_count": 4,
   "id": "2b8543e5-ac59-4b16-8333-2f8283a2a8d3",
   "metadata": {},
   "outputs": [
    {
     "name": "stdout",
     "output_type": "stream",
     "text": [
      "[<Response [200]>, <Response [200]>, <Response [200]>] 0.11473417282104492\n"
     ]
    }
   ],
   "source": [
    "import grequests,time\n",
    "\n",
    "url = 'https://www.baidu.com'\n",
    "req_list = [\n",
    "    grequests.get(url),\n",
    "    grequests.get(url),\n",
    "    grequests.get(url),\n",
    "]\n",
    "\n",
    "start_time=time.time()\n",
    "res_list = grequests.map(req_list)\n",
    "end_time=time.time()\n",
    "print(res_list,end_time-start_time)"
   ]
  },
  {
   "cell_type": "code",
   "execution_count": 12,
   "id": "1fb0b189-e858-457f-9dab-71b81f37f7c0",
   "metadata": {},
   "outputs": [
    {
     "name": "stdout",
     "output_type": "stream",
     "text": [
      "ResponseCode ：-2\n",
      "ResponseCode ：-2\n",
      "[<Response [200]>, None, None] 0.37847375869750977\n"
     ]
    }
   ],
   "source": [
    "import grequests,time\n",
    "\n",
    "# 自定义错误处理程序，接收两个参数分别为request和exception\n",
    "def err_handler(request,exception):\n",
    "    print('ResponseCode ：-2')\n",
    "\n",
    "url = 'https://www.not-ok.com'\n",
    "req_list = [\n",
    "    grequests.get(\"https://www.baidu.com\"),\n",
    "    grequests.get(url),\n",
    "    grequests.get(url),\n",
    "]\n",
    "\n",
    "start_time=time.time()\n",
    "\n",
    "# 注意，err_handler在这里\n",
    "res_list = grequests.map(req_list,size=10, exception_handler=err_handler)\n",
    "\n",
    "end_time=time.time()\n",
    "print(res_list,end_time-start_time)"
   ]
  },
  {
   "cell_type": "code",
   "execution_count": 48,
   "id": "662b9a5e-5672-4b3d-bb46-c9272a5e8ad4",
   "metadata": {},
   "outputs": [
    {
     "name": "stdout",
     "output_type": "stream",
     "text": [
      "http://www.baidu.com/ 200\n",
      "https://www.qq.com/ 200\n",
      "http://www.163.com/ 403\n",
      "https://www.zhihu.com/ 403\n",
      "https://www.toutiao.com/ 200\n",
      "http://www.douban.com/ 418\n",
      "http://httpbin.org/delay/1 Request failed\n",
      "http://fakedomain/ Request failed\n",
      "http://httpbin.org/status/500 500\n"
     ]
    }
   ],
   "source": [
    "import grequests\n",
    "\n",
    "urls = [\n",
    "    'http://www.baidu.com',\n",
    "    'http://www.qq.com',\n",
    "    'http://www.163.com',\n",
    "    'http://www.zhihu.com',\n",
    "    'http://www.toutiao.com',\n",
    "    'http://www.douban.com'\n",
    "]\n",
    "\n",
    "rs = (grequests.get(u) for u in urls)\n",
    "resp_list = grequests.map(rs, size=100, gtimeout=100, exception_handler=exception_handler)\n",
    "\n",
    "for response in (resp_list):\n",
    "    print(response.url+\" \"+str(response.status_code))  \n",
    "    \n",
    "def exception_handler(request, exception):\n",
    "    print(request.url+\" Request failed\")\n",
    "    \n",
    "reqs = [\n",
    "    grequests.get('http://httpbin.org/delay/1', timeout=0.001),\n",
    "    grequests.get('http://fakedomain/'),\n",
    "    grequests.get('http://httpbin.org/status/500')\n",
    "]\n",
    "\n",
    "response_list = grequests.map(reqs, size=100, gtimeout=100, exception_handler=exception_handler)\n",
    "for response in (response_list):\n",
    "    if response is not None:\n",
    "        print(response.url+\" \"+str(response.status_code))"
   ]
  },
  {
   "cell_type": "code",
   "execution_count": 25,
   "id": "a181daa3-1837-490f-97b7-45903eaab0b5",
   "metadata": {},
   "outputs": [
    {
     "name": "stdout",
     "output_type": "stream",
     "text": [
      "http://www.baidu.com/ 200\n",
      "https://www.qq.com/ 200\n",
      "http://www.163.com/ 403\n",
      "https://www.zhihu.com/ 403\n",
      "https://www.toutiao.com/ 200\n",
      "http://www.douban.com/ 418\n"
     ]
    }
   ],
   "source": [
    "import grequests\n",
    "\n",
    "urls = [\n",
    "    'http://www.baidu.com',\n",
    "    'http://www.qq.com',\n",
    "    'http://www.163.com',\n",
    "    'http://www.zhihu.com',\n",
    "    'http://www.toutiao.com',\n",
    "    'http://www.douban.com'\n",
    "]\n",
    "rs = (grequests.get(u) for u in urls)\n",
    "response_list = grequests.map(rs, size=100, gtimeout=1000)\n",
    "for response in (response_list):\n",
    "    print(response.url+\" \"+str(response.status_code))"
   ]
  },
  {
   "cell_type": "code",
   "execution_count": null,
   "id": "0aebbf40-afd5-4eb0-a042-f036ff4bc158",
   "metadata": {},
   "outputs": [],
   "source": []
  }
 ],
 "metadata": {
  "kernelspec": {
   "display_name": "Python 3 (ipykernel)",
   "language": "python",
   "name": "python3"
  },
  "language_info": {
   "codemirror_mode": {
    "name": "ipython",
    "version": 3
   },
   "file_extension": ".py",
   "mimetype": "text/x-python",
   "name": "python",
   "nbconvert_exporter": "python",
   "pygments_lexer": "ipython3",
   "version": "3.8.13"
  }
 },
 "nbformat": 4,
 "nbformat_minor": 5
}
