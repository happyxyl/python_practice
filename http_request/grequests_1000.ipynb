{
 "cells": [
  {
   "cell_type": "code",
   "execution_count": 6,
   "id": "df16a255-3b1a-4c2e-8ec5-6adaa34896e3",
   "metadata": {},
   "outputs": [
    {
     "name": "stdout",
     "output_type": "stream",
     "text": [
      "http://fakedomain/ Request failed\n",
      "http://www.baidu.com/ 200\n",
      "https://www.qq.com/ 200\n",
      "http://www.163.com/ 403\n",
      "https://www.zhihu.com/ 403\n",
      "https://www.toutiao.com/ 200\n",
      "http://www.douban.com/ 418\n",
      "http://httpbin.org/status/500 500\n"
     ]
    }
   ],
   "source": [
    "import grequests\n",
    "\n",
    "def exception_handler(request, exception):\n",
    "    print(request.url+\" Request failed\")\n",
    "    \n",
    "urls = [\n",
    "    'http://www.baidu.com',\n",
    "    'http://www.qq.com',\n",
    "    'http://www.163.com',\n",
    "    'http://www.zhihu.com',\n",
    "    'http://www.toutiao.com',\n",
    "    'http://www.douban.com',\n",
    "    'http://fakedomain/',\n",
    "    'http://httpbin.org/status/500'\n",
    "]\n",
    "\n",
    "rs = (grequests.get(u) for u in urls)\n",
    "response_list = grequests.map(rs, size=100, gtimeout=100, exception_handler=exception_handler)\n",
    "for response in (response_list):\n",
    "    if response is not None:\n",
    "        print(response.url+\" \"+str(response.status_code))"
   ]
  }
 ],
 "metadata": {
  "kernelspec": {
   "display_name": "Python 3 (ipykernel)",
   "language": "python",
   "name": "python3"
  },
  "language_info": {
   "codemirror_mode": {
    "name": "ipython",
    "version": 3
   },
   "file_extension": ".py",
   "mimetype": "text/x-python",
   "name": "python",
   "nbconvert_exporter": "python",
   "pygments_lexer": "ipython3",
   "version": "3.8.13"
  }
 },
 "nbformat": 4,
 "nbformat_minor": 5
}
