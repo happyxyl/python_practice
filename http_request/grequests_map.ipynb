{
 "cells": [
  {
   "cell_type": "code",
   "execution_count": 19,
   "id": "28471147-739d-4597-897e-2f2526250131",
   "metadata": {},
   "outputs": [],
   "source": [
    "def extract_item(request):\n",
    "    \"\"\"\n",
    "    提取request的内容\n",
    "    :param request:\n",
    "    :return:\n",
    "    \"\"\"\n",
    "    item = dict()\n",
    "    item[\"url\"] = request.url\n",
    "    item[\"text\"] = request.response.text or \"\"\n",
    "    item[\"status_code\"] = request.response.status_code or 0\n",
    "    return item\n",
    "\n",
    "def map(requests, stream=False, size=None, exception_handler=None, gtimeout=None):\n",
    "    \"\"\"Concurrently converts a list of Requests to Responses.\n",
    "\n",
    "    :param requests: a collection of Request objects.\n",
    "    :param stream: If True, the content will not be downloaded immediately.\n",
    "    :param size: Specifies the number of requests to make at a time. If None, no throttling occurs.\n",
    "    :param exception_handler: Callback function, called when exception occured. Params: Request, Exception\n",
    "    :param gtimeout: Gevent joinall timeout in seconds. (Note: unrelated to requests timeout)\n",
    "    \"\"\"\n",
    "    requests = list(requests)\n",
    "    pool = Pool(size) if size else None\n",
    "    jobs = [send(r, pool, stream=stream) for r in requests]\n",
    "    gevent.joinall(jobs, timeout=gtimeout)\n",
    "    ret = []\n",
    "    for request in requests:\n",
    "\n",
    "        if request.response is not None:\n",
    "            ret.append(extract_item(request))\n",
    "        elif exception_handler and hasattr(request, 'exception'):\n",
    "            ret.append(exception_handler(request, request.exception))\n",
    "        else:\n",
    "            ret.append(None)\n",
    "\n",
    "    yield ret"
   ]
  },
  {
   "cell_type": "code",
   "execution_count": 25,
   "id": "73409707-7445-4a5b-a6e8-08d90f55dc7d",
   "metadata": {},
   "outputs": [
    {
     "name": "stdout",
     "output_type": "stream",
     "text": [
      "http://www.baidu.com/ 200\n",
      "https://www.qq.com/ 200\n",
      "http://www.163.com/ 403\n",
      "https://www.zhihu.com/ 403\n",
      "https://www.toutiao.com/ 200\n"
     ]
    },
    {
     "ename": "AttributeError",
     "evalue": "'NoneType' object has no attribute 'url'",
     "output_type": "error",
     "traceback": [
      "\u001b[1;31m---------------------------------------------------------------------------\u001b[0m",
      "\u001b[1;31mAttributeError\u001b[0m                            Traceback (most recent call last)",
      "Input \u001b[1;32mIn [25]\u001b[0m, in \u001b[0;36m<cell line: 13>\u001b[1;34m()\u001b[0m\n\u001b[0;32m     12\u001b[0m response_list \u001b[38;5;241m=\u001b[39m grequests\u001b[38;5;241m.\u001b[39mmap(rs, size\u001b[38;5;241m=\u001b[39m\u001b[38;5;241m100\u001b[39m, gtimeout\u001b[38;5;241m=\u001b[39m\u001b[38;5;241m100\u001b[39m)\n\u001b[0;32m     13\u001b[0m \u001b[38;5;28;01mfor\u001b[39;00m response \u001b[38;5;129;01min\u001b[39;00m (response_list):\n\u001b[1;32m---> 14\u001b[0m     \u001b[38;5;28mprint\u001b[39m(\u001b[43mresponse\u001b[49m\u001b[38;5;241;43m.\u001b[39;49m\u001b[43murl\u001b[49m\u001b[38;5;241m+\u001b[39m\u001b[38;5;124m\"\u001b[39m\u001b[38;5;124m \u001b[39m\u001b[38;5;124m\"\u001b[39m\u001b[38;5;241m+\u001b[39m\u001b[38;5;28mstr\u001b[39m(response\u001b[38;5;241m.\u001b[39mstatus_code))\n",
      "\u001b[1;31mAttributeError\u001b[0m: 'NoneType' object has no attribute 'url'"
     ]
    }
   ],
   "source": [
    "import grequests\n",
    "\n",
    "urls = [\n",
    "    'http://www.baidu.com',\n",
    "    'http://www.qq.com',\n",
    "    'http://www.163.com',\n",
    "    'http://www.zhihu.com',\n",
    "    'http://www.toutiao.com',\n",
    "    'http://www.douban.com1'\n",
    "]\n",
    "rs = (grequests.get(u) for u in urls)\n",
    "response_list = grequests.map(rs, size=100, gtimeout=100)\n",
    "for response in (response_list):\n",
    "    print(response.url+\" \"+str(response.status_code))"
   ]
  }
 ],
 "metadata": {
  "kernelspec": {
   "display_name": "Python 3 (ipykernel)",
   "language": "python",
   "name": "python3"
  },
  "language_info": {
   "codemirror_mode": {
    "name": "ipython",
    "version": 3
   },
   "file_extension": ".py",
   "mimetype": "text/x-python",
   "name": "python",
   "nbconvert_exporter": "python",
   "pygments_lexer": "ipython3",
   "version": "3.8.13"
  }
 },
 "nbformat": 4,
 "nbformat_minor": 5
}
