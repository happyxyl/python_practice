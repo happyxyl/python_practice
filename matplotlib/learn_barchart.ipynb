{
 "cells": [
  {
   "cell_type": "code",
   "execution_count": 16,
   "id": "83de1378-bac1-4b3e-aeb6-f4b57ca730b0",
   "metadata": {},
   "outputs": [],
   "source": [
    "from matplotlib import pyplot as plt\n",
    "import numpy as np"
   ]
  },
  {
   "cell_type": "code",
   "execution_count": 100,
   "id": "81ffe1f4-fead-446d-997f-256218c024bc",
   "metadata": {},
   "outputs": [
    {
     "name": "stdout",
     "output_type": "stream",
     "text": [
      "n 是分组区间对应的频率： [2. 1. 3. 1. 1. 4. 0. 2. 1. 0.]\n",
      "\n",
      "bins_limits 是分组时的分隔值： [  0.  10.  20.  30.  40.  50.  60.  70.  80.  90. 100.]\n",
      "\n",
      "patches 指的是是直方图中列表对象 <class 'matplotlib.container.BarContainer'>\n",
      "\n",
      "0 Rectangle(xy=(0, 0), width=10, height=2, angle=0)\n",
      "1 Rectangle(xy=(10, 0), width=10, height=1, angle=0)\n",
      "2 Rectangle(xy=(20, 0), width=10, height=3, angle=0)\n",
      "3 Rectangle(xy=(30, 0), width=10, height=1, angle=0)\n",
      "4 Rectangle(xy=(40, 0), width=10, height=1, angle=0)\n",
      "5 Rectangle(xy=(50, 0), width=10, height=4, angle=0)\n",
      "6 Rectangle(xy=(60, 0), width=10, height=0, angle=0)\n",
      "7 Rectangle(xy=(70, 0), width=10, height=2, angle=0)\n",
      "8 Rectangle(xy=(80, 0), width=10, height=1, angle=0)\n",
      "9 Rectangle(xy=(90, 0), width=10, height=0, angle=0)\n"
     ]
    },
    {
     "data": {
      "image/png": "[encoded data removed]",
      "text/plain": [
       "<Figure size 432x288 with 1 Axes>"
      ]
     },
     "metadata": {
      "needs_background": "light"
     },
     "output_type": "display_data"
    }
   ],
   "source": [
    "#创建图形对象和轴域对象\n",
    "a = np.array([22,87,5,43,56,73,55,54,11,20,51,5,79,31,27])\n",
    "#绘制直方图\n",
    "n, bins_limits, patches = plt.hist(a, bins = np.linspace(0,100,11),edgecolor=\"white\", label=\"number\")\n",
    "#设置坐标轴\n",
    "print(\"n 是分组区间对应的频率：\",n,end=\"\\n\\n\")\n",
    "print(\"bins_limits 是分组时的分隔值：\",bins_limits,end=\"\\n\\n\")\n",
    "print(\"patches 指的是是直方图中列表对象\",type(patches),end=\"\\n\\n\")\n",
    "for a,b in enumerate(patches):\n",
    "    print(a,b) # 遍历取出patches列表的序列和值"
   ]
  },
  {
   "cell_type": "code",
   "execution_count": 97,
   "id": "5bccea1c-f0b1-48c2-93ab-5903f0d2a066",
   "metadata": {},
   "outputs": [
    {
     "data": {
      "image/png": "[encoded data removed]",
      "text/plain": [
       "<Figure size 432x288 with 1 Axes>"
      ]
     },
     "metadata": {
      "needs_background": "light"
     },
     "output_type": "display_data"
    }
   ],
   "source": [
    "#创建图形对象和轴域对象\n",
    "a = np.array([22,87,5,43,56,73,55,54,11,20,51,5,79,31,27])\n",
    "#绘制直方图\n",
    "n, bins_limits, patches = plt.hist(a, bins = np.linspace(0,100,10),edgecolor=\"white\", label=\"number\")\n",
    "plt.xlabel('Smarts')\n",
    "plt.ylabel('Probability')\n",
    "plt.title('Histogram of IQ')\n",
    "plt.xticks([0,11,22,33,44,55,66,77,88,100])\n",
    "plt.legend(prop={'size':10})\n",
    "plt.show()"
   ]
  },
  {
   "cell_type": "code",
   "execution_count": 101,
   "id": "996822b6-52a1-4e49-b704-a0ae21f10570",
   "metadata": {},
   "outputs": [
    {
     "data": {
      "text/plain": [
       "array([0.13333333, 0.06666667, 0.2       , 0.06666667, 0.06666667,\n",
       "       0.26666667, 0.        , 0.13333333, 0.06666667, 0.        ])"
      ]
     },
     "execution_count": 101,
     "metadata": {},
     "output_type": "execute_result"
    }
   ],
   "source": [
    "n.sum()\n",
    "b = n/n.sum()\n",
    "b"
   ]
  },
  {
   "cell_type": "code",
   "execution_count": 99,
   "id": "43ffdc11-c73d-471c-b9a4-4360b1368282",
   "metadata": {},
   "outputs": [
    {
     "data": {
      "text/plain": [
       "0.2"
      ]
     },
     "execution_count": 99,
     "metadata": {},
     "output_type": "execute_result"
    }
   ],
   "source": [
    "b.max()"
   ]
  },
  {
   "cell_type": "code",
   "execution_count": 89,
   "id": "17e71744-046c-4a8b-a6b4-bd1d8dd9276a",
   "metadata": {},
   "outputs": [
    {
     "data": {
      "text/plain": [
       "0.0"
      ]
     },
     "execution_count": 89,
     "metadata": {},
     "output_type": "execute_result"
    }
   ],
   "source": [
    "b.min()"
   ]
  },
  {
   "cell_type": "code",
   "execution_count": 90,
   "id": "2609462f-53b7-417b-b951-e694646235a7",
   "metadata": {},
   "outputs": [
    {
     "name": "stdout",
     "output_type": "stream",
     "text": [
      "n 是分组区间对应的频率： [0. 0. 0. 0. 0. 0. 0. 0. 3. 0. 0. 0. 0. 0. 0. 0. 0. 3. 0.]\n",
      "\n",
      "bins_limits 是分组时的分隔值： [0.008      0.01497368 0.02194737 0.02892105 0.03589474 0.04286842\n",
      " 0.04984211 0.05681579 0.06378947 0.07076316 0.07773684 0.08471053\n",
      " 0.09168421 0.09865789 0.10563158 0.11260526 0.11957895 0.12655263\n",
      " 0.13352632 0.1405    ]\n",
      "\n",
      "patches 指的是是直方图中列表对象 <class 'matplotlib.container.BarContainer'>\n",
      "\n",
      "0 Rectangle(xy=(0.008, 0), width=0.00697368, height=0, angle=0)\n",
      "1 Rectangle(xy=(0.0149737, 0), width=0.00697368, height=0, angle=0)\n",
      "2 Rectangle(xy=(0.0219474, 0), width=0.00697368, height=0, angle=0)\n",
      "3 Rectangle(xy=(0.0289211, 0), width=0.00697368, height=0, angle=0)\n",
      "4 Rectangle(xy=(0.0358947, 0), width=0.00697368, height=0, angle=0)\n",
      "5 Rectangle(xy=(0.0428684, 0), width=0.00697368, height=0, angle=0)\n",
      "6 Rectangle(xy=(0.0498421, 0), width=0.00697368, height=0, angle=0)\n",
      "7 Rectangle(xy=(0.0568158, 0), width=0.00697368, height=0, angle=0)\n",
      "8 Rectangle(xy=(0.0637895, 0), width=0.00697368, height=3, angle=0)\n",
      "9 Rectangle(xy=(0.0707632, 0), width=0.00697368, height=0, angle=0)\n",
      "10 Rectangle(xy=(0.0777368, 0), width=0.00697368, height=0, angle=0)\n",
      "11 Rectangle(xy=(0.0847105, 0), width=0.00697368, height=0, angle=0)\n",
      "12 Rectangle(xy=(0.0916842, 0), width=0.00697368, height=0, angle=0)\n",
      "13 Rectangle(xy=(0.0986579, 0), width=0.00697368, height=0, angle=0)\n",
      "14 Rectangle(xy=(0.105632, 0), width=0.00697368, height=0, angle=0)\n",
      "15 Rectangle(xy=(0.112605, 0), width=0.00697368, height=0, angle=0)\n",
      "16 Rectangle(xy=(0.119579, 0), width=0.00697368, height=0, angle=0)\n",
      "17 Rectangle(xy=(0.126553, 0), width=0.00697368, height=3, angle=0)\n",
      "18 Rectangle(xy=(0.133526, 0), width=0.00697368, height=0, angle=0)\n"
     ]
    },
    {
     "data": {
      "image/png": "[encoded data removed]",
      "text/plain": [
       "<Figure size 432x288 with 1 Axes>"
      ]
     },
     "metadata": {
      "needs_background": "light"
     },
     "output_type": "display_data"
    }
   ],
   "source": [
    "n, bins_limits, patches = plt.hist(b, bins = np.linspace(0.0080,0.1405,20),edgecolor=\"white\", label=\"number\")\n",
    "\n",
    "#设置坐标轴\n",
    "print(\"n 是分组区间对应的频率：\",n,end=\"\\n\\n\")\n",
    "print(\"bins_limits 是分组时的分隔值：\",bins_limits,end=\"\\n\\n\")\n",
    "print(\"patches 指的是是直方图中列表对象\",type(patches),end=\"\\n\\n\")\n",
    "for a,b in enumerate(patches):\n",
    "    print(a,b) # 遍历取出patches列表的序列和值"
   ]
  },
  {
   "cell_type": "code",
   "execution_count": 63,
   "id": "bde62945-0f63-4c70-80b8-a54421049a2f",
   "metadata": {},
   "outputs": [
    {
     "data": {
      "image/png": "[encoded data removed]",
      "text/plain": [
       "<Figure size 432x288 with 1 Axes>"
      ]
     },
     "metadata": {
      "needs_background": "light"
     },
     "output_type": "display_data"
    }
   ],
   "source": [
    "#创建图形对象和轴域对象\n",
    "a = np.array([22,87,5,43,56,73,55,54,11,20,51,5,79,31,27])\n",
    "a.sum()\n",
    "b = a/a.sum()\n",
    "#绘制直方图\n",
    "n, bins_limits, patches = plt.hist(b, bins = np.linspace(0,0.14,10),edgecolor=\"white\", label=\"number\")\n",
    "plt.xlabel('Smarts')\n",
    "plt.ylabel('Probability')\n",
    "plt.title('Histogram of IQ')\n",
    "plt.xticks([0,0.02,0.04,0.06,0.08,0.11,0.13,0.15,0.17,0.2])\n",
    "plt.legend(prop={'size':10})\n",
    "plt.show()"
   ]
  },
  {
   "cell_type": "code",
   "execution_count": null,
   "id": "0b7b361c-3df3-4a1d-bd76-60987209f778",
   "metadata": {},
   "outputs": [],
   "source": []
  }
 ],
 "metadata": {
  "kernelspec": {
   "display_name": "Python 3 (ipykernel)",
   "language": "python",
   "name": "python3"
  },
  "language_info": {
   "codemirror_mode": {
    "name": "ipython",
    "version": 3
   },
   "file_extension": ".py",
   "mimetype": "text/x-python",
   "name": "python",
   "nbconvert_exporter": "python",
   "pygments_lexer": "ipython3",
   "version": "3.8.13"
  }
 },
 "nbformat": 4,
 "nbformat_minor": 5
}
